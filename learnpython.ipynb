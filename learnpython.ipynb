{
 "cells": [
  {
   "cell_type": "code",
   "execution_count": null,
   "metadata": {},
   "outputs": [],
   "source": [
    "import redis\n",
    "r = redis.Redis(\n",
    "    host='localhost',\n",
    "    port=6379,\n",
    ")\n",
    "def alpr_result():\n",
    "        res = r.hgetall(\"upload_plate_to_img\")\n",
    "        resj = format(res)\n",
    "        print((resj))\n",
    "        return(resj)"
   ]
  }
 ],
 "metadata": {
  "kernelspec": {
   "display_name": "Python 3 (ipykernel)",
   "language": "python",
   "name": "python3"
  },
  "language_info": {
   "codemirror_mode": {
    "name": "ipython",
    "version": 3
   },
   "file_extension": ".py",
   "mimetype": "text/x-python",
   "name": "python",
   "nbconvert_exporter": "python",
   "pygments_lexer": "ipython3",
   "version": "3.10.12"
  },
  "vscode": {
   "interpreter": {
    "hash": "e2c50a6c1bbfd385ba0c9e2a76c023ee6c73a12e396a531178a7c327f0a4d952"
   }
  }
 },
 "nbformat": 4,
 "nbformat_minor": 5
}
