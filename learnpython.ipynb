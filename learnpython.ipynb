{
 "cells": [
  {
   "cell_type": "code",
   "execution_count": 4,
   "id": "9799d842-41f0-4ddf-b580-39faeb99568e",
   "metadata": {
    "tags": []
   },
   "outputs": [
    {
     "name": "stdout",
     "output_type": "stream",
     "text": [
      "25\n"
     ]
    },
    {
     "data": {
      "text/plain": [
       "25"
      ]
     },
     "execution_count": 4,
     "metadata": {},
     "output_type": "execute_result"
    }
   ],
   "source": [
    "def printPerimeter(dimension1, dimension2, dimension3):\n",
    "    perimeter = dimension1 + dimension2 + dimension3\n",
    "    print(perimeter)\n",
    "    return perimeter   \n",
    "    print(perimeter)\n",
    " \n",
    "printPerimeter(10, 11, 4) # => 25\n"
   ]
  },
  {
   "cell_type": "code",
   "execution_count": 9,
   "id": "728344c7",
   "metadata": {},
   "outputs": [
    {
     "name": "stdout",
     "output_type": "stream",
     "text": [
      "HERE IS AN EXAMPLE OS A STRING\n",
      "Here is an example os a string\n"
     ]
    }
   ],
   "source": [
    "text = \"here is an EXAMPLE os a STRING\"\n",
    "a = text.upper()\n",
    "print(a)\n",
    "print(toext.capitalize())\n"
   ]
  },
  {
   "cell_type": "code",
   "execution_count": null,
   "id": "f11937dd",
   "metadata": {},
   "outputs": [],
   "source": []
  }
 ],
 "metadata": {
  "kernelspec": {
   "display_name": "Python 3 (ipykernel)",
   "language": "python",
   "name": "python3"
  },
  "language_info": {
   "codemirror_mode": {
    "name": "ipython",
    "version": 3
   },
   "file_extension": ".py",
   "mimetype": "text/x-python",
   "name": "python",
   "nbconvert_exporter": "python",
   "pygments_lexer": "ipython3",
   "version": "3.9.2"
  },
  "vscode": {
   "interpreter": {
    "hash": "e2c50a6c1bbfd385ba0c9e2a76c023ee6c73a12e396a531178a7c327f0a4d952"
   }
  }
 },
 "nbformat": 4,
 "nbformat_minor": 5
}
