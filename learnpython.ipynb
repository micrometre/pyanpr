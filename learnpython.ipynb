{
 "cells": [
  {
   "cell_type": "code",
   "execution_count": null,
   "metadata": {},
   "outputs": [],
   "source": [
    "import redis\n",
    "def list_items():\n",
    "    list_alpr= []\n",
    "    stored_alpr  = r.hgetall(\"alpr_plate_to_id\")\n",
    "    for x in stored_alpr:\n",
    "        print(x)   \n",
    "    #print(stored_alpr)\n",
    "    return(\"test\")\n"
   ]
  }
 ],
 "metadata": {
  "kernelspec": {
   "display_name": "Python 3 (ipykernel)",
   "language": "python",
   "name": "python3"
  },
  "language_info": {
   "codemirror_mode": {
    "name": "ipython",
    "version": 3
   },
   "file_extension": ".py",
   "mimetype": "text/x-python",
   "name": "python",
   "nbconvert_exporter": "python",
   "pygments_lexer": "ipython3",
   "version": "3.10.12"
  },
  "vscode": {
   "interpreter": {
    "hash": "e2c50a6c1bbfd385ba0c9e2a76c023ee6c73a12e396a531178a7c327f0a4d952"
   }
  }
 },
 "nbformat": 4,
 "nbformat_minor": 5
}
